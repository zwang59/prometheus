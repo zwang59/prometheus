{
 "cells": [
  {
   "cell_type": "code",
   "execution_count": 1,
   "metadata": {},
   "outputs": [],
   "source": [
    "from dwellml import freq, vehicle, load_dataset as load, density_cluster as dc\n",
    "import pandas as pd\n",
    "import numpy as np \n",
    "import matplotlib.pyplot as plt\n",
    "from matplotlib import cm\n",
    "import mplleaflet as mpl"
   ]
  },
  {
   "cell_type": "code",
   "execution_count": 2,
   "metadata": {
    "scrolled": true
   },
   "outputs": [
    {
     "name": "stderr",
     "output_type": "stream",
     "text": [
      "Loading Data.........: 100%|████████████████████████████████████████████████████████| 100/100 [00:00<00:00, 319.02it/s]\n",
      "Preprocessing Data...: 100%|████████████████████████████████████████████████████████| 100/100 [00:00<00:00, 403.18it/s]\n"
     ]
    }
   ],
   "source": [
    "df = load.read_data(\"dataset\\Dwell_Dataset.csv\")"
   ]
  },
  {
   "cell_type": "code",
   "execution_count": 3,
   "metadata": {},
   "outputs": [
    {
     "data": {
      "text/html": [
       "<div>\n",
       "<style scoped>\n",
       "    .dataframe tbody tr th:only-of-type {\n",
       "        vertical-align: middle;\n",
       "    }\n",
       "\n",
       "    .dataframe tbody tr th {\n",
       "        vertical-align: top;\n",
       "    }\n",
       "\n",
       "    .dataframe thead th {\n",
       "        text-align: right;\n",
       "    }\n",
       "</style>\n",
       "<table border=\"1\" class=\"dataframe\">\n",
       "  <thead>\n",
       "    <tr style=\"text-align: right;\">\n",
       "      <th></th>\n",
       "      <th>Device_ID</th>\n",
       "      <th>Latitude</th>\n",
       "      <th>Longitude</th>\n",
       "      <th>Start_time</th>\n",
       "      <th>End_time</th>\n",
       "      <th>Category</th>\n",
       "      <th>Gender</th>\n",
       "      <th>Age</th>\n",
       "      <th>Date</th>\n",
       "      <th>Time_Weight</th>\n",
       "      <th>End_Datetime</th>\n",
       "      <th>Weekday</th>\n",
       "      <th>Week_Number</th>\n",
       "      <th>Month_Name</th>\n",
       "      <th>Month_Number</th>\n",
       "    </tr>\n",
       "  </thead>\n",
       "  <tbody>\n",
       "    <tr>\n",
       "      <th>0</th>\n",
       "      <td>1</td>\n",
       "      <td>41.879604</td>\n",
       "      <td>-87.633664</td>\n",
       "      <td>08:00:00</td>\n",
       "      <td>08:10:00</td>\n",
       "      <td>Fast Food</td>\n",
       "      <td>Male</td>\n",
       "      <td>25</td>\n",
       "      <td>2020-10-05</td>\n",
       "      <td>0.490</td>\n",
       "      <td>2020-10-05 08:00:00</td>\n",
       "      <td>Monday</td>\n",
       "      <td>1</td>\n",
       "      <td>October</td>\n",
       "      <td>10</td>\n",
       "    </tr>\n",
       "    <tr>\n",
       "      <th>1</th>\n",
       "      <td>1</td>\n",
       "      <td>41.877677</td>\n",
       "      <td>-87.634251</td>\n",
       "      <td>08:15:00</td>\n",
       "      <td>08:20:00</td>\n",
       "      <td>Parking</td>\n",
       "      <td>Male</td>\n",
       "      <td>25</td>\n",
       "      <td>2020-10-05</td>\n",
       "      <td>0.500</td>\n",
       "      <td>2020-10-05 08:15:00</td>\n",
       "      <td>Monday</td>\n",
       "      <td>1</td>\n",
       "      <td>October</td>\n",
       "      <td>10</td>\n",
       "    </tr>\n",
       "    <tr>\n",
       "      <th>2</th>\n",
       "      <td>1</td>\n",
       "      <td>41.880653</td>\n",
       "      <td>-87.636480</td>\n",
       "      <td>08:30:00</td>\n",
       "      <td>12:00:00</td>\n",
       "      <td>Work</td>\n",
       "      <td>Male</td>\n",
       "      <td>25</td>\n",
       "      <td>2020-10-05</td>\n",
       "      <td>0.720</td>\n",
       "      <td>2020-10-05 08:30:00</td>\n",
       "      <td>Monday</td>\n",
       "      <td>1</td>\n",
       "      <td>October</td>\n",
       "      <td>10</td>\n",
       "    </tr>\n",
       "    <tr>\n",
       "      <th>3</th>\n",
       "      <td>1</td>\n",
       "      <td>41.897865</td>\n",
       "      <td>-87.630874</td>\n",
       "      <td>17:30:00</td>\n",
       "      <td>23:59:00</td>\n",
       "      <td>Home</td>\n",
       "      <td>Male</td>\n",
       "      <td>25</td>\n",
       "      <td>2020-10-05</td>\n",
       "      <td>1.439</td>\n",
       "      <td>2020-10-05 17:30:00</td>\n",
       "      <td>Monday</td>\n",
       "      <td>1</td>\n",
       "      <td>October</td>\n",
       "      <td>10</td>\n",
       "    </tr>\n",
       "    <tr>\n",
       "      <th>4</th>\n",
       "      <td>2</td>\n",
       "      <td>41.879604</td>\n",
       "      <td>-87.633664</td>\n",
       "      <td>07:30:00</td>\n",
       "      <td>08:30:00</td>\n",
       "      <td>Fast Food</td>\n",
       "      <td>Female</td>\n",
       "      <td>27</td>\n",
       "      <td>2020-10-05</td>\n",
       "      <td>0.510</td>\n",
       "      <td>2020-10-05 07:30:00</td>\n",
       "      <td>Monday</td>\n",
       "      <td>1</td>\n",
       "      <td>October</td>\n",
       "      <td>10</td>\n",
       "    </tr>\n",
       "  </tbody>\n",
       "</table>\n",
       "</div>"
      ],
      "text/plain": [
       "   Device_ID   Latitude  Longitude Start_time  End_time   Category  Gender  \\\n",
       "0          1  41.879604 -87.633664   08:00:00  08:10:00  Fast Food    Male   \n",
       "1          1  41.877677 -87.634251   08:15:00  08:20:00    Parking    Male   \n",
       "2          1  41.880653 -87.636480   08:30:00  12:00:00       Work    Male   \n",
       "3          1  41.897865 -87.630874   17:30:00  23:59:00       Home    Male   \n",
       "4          2  41.879604 -87.633664   07:30:00  08:30:00  Fast Food  Female   \n",
       "\n",
       "   Age       Date  Time_Weight        End_Datetime Weekday  Week_Number  \\\n",
       "0   25 2020-10-05        0.490 2020-10-05 08:00:00  Monday            1   \n",
       "1   25 2020-10-05        0.500 2020-10-05 08:15:00  Monday            1   \n",
       "2   25 2020-10-05        0.720 2020-10-05 08:30:00  Monday            1   \n",
       "3   25 2020-10-05        1.439 2020-10-05 17:30:00  Monday            1   \n",
       "4   27 2020-10-05        0.510 2020-10-05 07:30:00  Monday            1   \n",
       "\n",
       "  Month_Name  Month_Number  \n",
       "0    October            10  \n",
       "1    October            10  \n",
       "2    October            10  \n",
       "3    October            10  \n",
       "4    October            10  "
      ]
     },
     "execution_count": 3,
     "metadata": {},
     "output_type": "execute_result"
    }
   ],
   "source": [
    "df.head()"
   ]
  },
  {
   "cell_type": "markdown",
   "metadata": {},
   "source": [
    "# Layer 1\n",
    "## Frequency - Weekly & Monthly "
   ]
  },
  {
   "cell_type": "code",
   "execution_count": 4,
   "metadata": {},
   "outputs": [
    {
     "data": {
      "image/png": "[encoded data removed]",
      "text/plain": [
       "<Figure size 432x288 with 1 Axes>"
      ]
     },
     "metadata": {
      "needs_background": "light"
     },
     "output_type": "display_data"
    }
   ],
   "source": [
    "temp_df = df.groupby(by = ['Week_Number','Device_ID','Category'])['Device_ID'].count().unstack('Device_ID').reset_index()\n",
    "temp_df = temp_df.groupby(['Category']).mean()\n",
    "del temp_df['Week_Number']\n",
    "temp_df.plot(kind='bar')\n",
    "# Plot the bar graph\n",
    "plt.rcParams['figure.figsize'] = (20, 20)\n",
    "plt.legend(bbox_to_anchor=(1.04,0), loc=\"lower left\", borderaxespad=0, title = \"Device_ID\")\n",
    "plt.title('People Lifestage vs Average No: of units')  \n",
    "plt.xlabel('Category')  \n",
    "plt.ylabel('Frequency')\n",
    "plt.show()"
   ]
  },
  {
   "cell_type": "code",
   "execution_count": 5,
   "metadata": {
    "scrolled": true
   },
   "outputs": [
    {
     "data": {
      "text/html": [
       "<div>\n",
       "<style scoped>\n",
       "    .dataframe tbody tr th:only-of-type {\n",
       "        vertical-align: middle;\n",
       "    }\n",
       "\n",
       "    .dataframe tbody tr th {\n",
       "        vertical-align: top;\n",
       "    }\n",
       "\n",
       "    .dataframe thead th {\n",
       "        text-align: right;\n",
       "    }\n",
       "</style>\n",
       "<table border=\"1\" class=\"dataframe\">\n",
       "  <thead>\n",
       "    <tr style=\"text-align: right;\">\n",
       "      <th></th>\n",
       "      <th>Category</th>\n",
       "      <th>Frequency of visits</th>\n",
       "    </tr>\n",
       "  </thead>\n",
       "  <tbody>\n",
       "    <tr>\n",
       "      <th>0</th>\n",
       "      <td>Fast Food</td>\n",
       "      <td>9.75</td>\n",
       "    </tr>\n",
       "    <tr>\n",
       "      <th>1</th>\n",
       "      <td>Groceries</td>\n",
       "      <td>0.00</td>\n",
       "    </tr>\n",
       "    <tr>\n",
       "      <th>2</th>\n",
       "      <td>Home</td>\n",
       "      <td>14.00</td>\n",
       "    </tr>\n",
       "    <tr>\n",
       "      <th>3</th>\n",
       "      <td>Library</td>\n",
       "      <td>4.00</td>\n",
       "    </tr>\n",
       "    <tr>\n",
       "      <th>4</th>\n",
       "      <td>Mall</td>\n",
       "      <td>2.00</td>\n",
       "    </tr>\n",
       "    <tr>\n",
       "      <th>5</th>\n",
       "      <td>Museum</td>\n",
       "      <td>0.00</td>\n",
       "    </tr>\n",
       "    <tr>\n",
       "      <th>6</th>\n",
       "      <td>Nightclub</td>\n",
       "      <td>0.00</td>\n",
       "    </tr>\n",
       "    <tr>\n",
       "      <th>7</th>\n",
       "      <td>Park</td>\n",
       "      <td>0.00</td>\n",
       "    </tr>\n",
       "    <tr>\n",
       "      <th>8</th>\n",
       "      <td>Parking</td>\n",
       "      <td>10.00</td>\n",
       "    </tr>\n",
       "    <tr>\n",
       "      <th>9</th>\n",
       "      <td>Restaurant</td>\n",
       "      <td>4.00</td>\n",
       "    </tr>\n",
       "    <tr>\n",
       "      <th>10</th>\n",
       "      <td>Work</td>\n",
       "      <td>10.00</td>\n",
       "    </tr>\n",
       "  </tbody>\n",
       "</table>\n",
       "</div>"
      ],
      "text/plain": [
       "      Category  Frequency of visits\n",
       "0    Fast Food                 9.75\n",
       "1    Groceries                 0.00\n",
       "2         Home                14.00\n",
       "3      Library                 4.00\n",
       "4         Mall                 2.00\n",
       "5       Museum                 0.00\n",
       "6    Nightclub                 0.00\n",
       "7         Park                 0.00\n",
       "8      Parking                10.00\n",
       "9   Restaurant                 4.00\n",
       "10        Work                10.00"
      ]
     },
     "execution_count": 5,
     "metadata": {},
     "output_type": "execute_result"
    }
   ],
   "source": [
    "freq.weekly_frequency(df,1)"
   ]
  },
  {
   "cell_type": "code",
   "execution_count": 6,
   "metadata": {},
   "outputs": [
    {
     "name": "stdout",
     "output_type": "stream",
     "text": [
      "Device_ID not found\n"
     ]
    }
   ],
   "source": [
    "freq.weekly_frequency(df,7)"
   ]
  },
  {
   "cell_type": "code",
   "execution_count": 7,
   "metadata": {
    "scrolled": false
   },
   "outputs": [
    {
     "name": "stdout",
     "output_type": "stream",
     "text": [
      "Help on function weekly_frequency in module dwellml.freq.lib:\n",
      "\n",
      "weekly_frequency(dataset, device_id)\n",
      "    The function calculates the frequency of visits on a weekly basis \n",
      "    for each category in the dataset. The frequency will be calculated\n",
      "    for a specific Device_ID\n",
      "    \n",
      "    Parameters\n",
      "    ----------\n",
      "    dataset   : pandas.Series/pandas.Dataframe\n",
      "    device_id : int\n",
      "    \n",
      "    Returns\n",
      "    -------\n",
      "    freq_count: pandas.Dataframe\n",
      "\n"
     ]
    }
   ],
   "source": [
    "help(freq.weekly_frequency)"
   ]
  },
  {
   "cell_type": "code",
   "execution_count": 8,
   "metadata": {},
   "outputs": [
    {
     "data": {
      "text/html": [
       "<div>\n",
       "<style scoped>\n",
       "    .dataframe tbody tr th:only-of-type {\n",
       "        vertical-align: middle;\n",
       "    }\n",
       "\n",
       "    .dataframe tbody tr th {\n",
       "        vertical-align: top;\n",
       "    }\n",
       "\n",
       "    .dataframe thead th {\n",
       "        text-align: right;\n",
       "    }\n",
       "</style>\n",
       "<table border=\"1\" class=\"dataframe\">\n",
       "  <thead>\n",
       "    <tr style=\"text-align: right;\">\n",
       "      <th></th>\n",
       "      <th>Category</th>\n",
       "      <th>Frequency of visits</th>\n",
       "    </tr>\n",
       "  </thead>\n",
       "  <tbody>\n",
       "    <tr>\n",
       "      <th>0</th>\n",
       "      <td>Fast Food</td>\n",
       "      <td>19.5</td>\n",
       "    </tr>\n",
       "    <tr>\n",
       "      <th>1</th>\n",
       "      <td>Groceries</td>\n",
       "      <td>0.0</td>\n",
       "    </tr>\n",
       "    <tr>\n",
       "      <th>2</th>\n",
       "      <td>Home</td>\n",
       "      <td>28.0</td>\n",
       "    </tr>\n",
       "    <tr>\n",
       "      <th>3</th>\n",
       "      <td>Library</td>\n",
       "      <td>8.0</td>\n",
       "    </tr>\n",
       "    <tr>\n",
       "      <th>4</th>\n",
       "      <td>Mall</td>\n",
       "      <td>4.0</td>\n",
       "    </tr>\n",
       "    <tr>\n",
       "      <th>5</th>\n",
       "      <td>Museum</td>\n",
       "      <td>0.0</td>\n",
       "    </tr>\n",
       "    <tr>\n",
       "      <th>6</th>\n",
       "      <td>Nightclub</td>\n",
       "      <td>0.0</td>\n",
       "    </tr>\n",
       "    <tr>\n",
       "      <th>7</th>\n",
       "      <td>Park</td>\n",
       "      <td>0.0</td>\n",
       "    </tr>\n",
       "    <tr>\n",
       "      <th>8</th>\n",
       "      <td>Parking</td>\n",
       "      <td>20.0</td>\n",
       "    </tr>\n",
       "    <tr>\n",
       "      <th>9</th>\n",
       "      <td>Restaurant</td>\n",
       "      <td>8.0</td>\n",
       "    </tr>\n",
       "    <tr>\n",
       "      <th>10</th>\n",
       "      <td>Work</td>\n",
       "      <td>20.0</td>\n",
       "    </tr>\n",
       "  </tbody>\n",
       "</table>\n",
       "</div>"
      ],
      "text/plain": [
       "      Category  Frequency of visits\n",
       "0    Fast Food                 19.5\n",
       "1    Groceries                  0.0\n",
       "2         Home                 28.0\n",
       "3      Library                  8.0\n",
       "4         Mall                  4.0\n",
       "5       Museum                  0.0\n",
       "6    Nightclub                  0.0\n",
       "7         Park                  0.0\n",
       "8      Parking                 20.0\n",
       "9   Restaurant                  8.0\n",
       "10        Work                 20.0"
      ]
     },
     "execution_count": 8,
     "metadata": {},
     "output_type": "execute_result"
    }
   ],
   "source": [
    "freq.monthly_frequency(df,1)"
   ]
  },
  {
   "cell_type": "code",
   "execution_count": 9,
   "metadata": {
    "scrolled": true
   },
   "outputs": [
    {
     "name": "stdout",
     "output_type": "stream",
     "text": [
      "Device_ID not found\n"
     ]
    }
   ],
   "source": [
    "freq.monthly_frequency(df,7)"
   ]
  },
  {
   "cell_type": "markdown",
   "metadata": {},
   "source": [
    "# Layer 2\n",
    "## Mode of Transport"
   ]
  },
  {
   "cell_type": "code",
   "execution_count": 10,
   "metadata": {},
   "outputs": [
    {
     "data": {
      "text/plain": [
       "'WALK'"
      ]
     },
     "execution_count": 10,
     "metadata": {},
     "output_type": "execute_result"
    }
   ],
   "source": [
    "Lat1 = 41.879885\n",
    "Lon1 = -87.632588\n",
    "Lat2 = 41.87826\n",
    "Lon2 = -87.634264\n",
    "stay_duration = 274\n",
    "\n",
    "\n",
    "vehicle.get_vehicle(Lat1,Lon1,Lat2,Lon2,stay_duration)"
   ]
  },
  {
   "cell_type": "markdown",
   "metadata": {},
   "source": [
    "# Layer 3\n",
    "## Frequency Clustering Approach"
   ]
  },
  {
   "cell_type": "code",
   "execution_count": 11,
   "metadata": {},
   "outputs": [
    {
     "name": "stdout",
     "output_type": "stream",
     "text": [
      "Number of clusters: 8\n"
     ]
    }
   ],
   "source": [
    "max_distance = 0.05\n",
    "\n",
    "min_customers = 25\n",
    "\n",
    "hot_spots, df = dc.get_hot_spots(max_distance ,min_customers,df)"
   ]
  },
  {
   "cell_type": "markdown",
   "metadata": {},
   "source": [
    "## Plotting the clusters"
   ]
  },
  {
   "cell_type": "code",
   "execution_count": 12,
   "metadata": {},
   "outputs": [
    {
     "name": "stderr",
     "output_type": "stream",
     "text": [
      "C:\\Users\\Gokul\\anaconda3\\lib\\site-packages\\IPython\\core\\display.py:701: UserWarning: Consider using IPython.display.IFrame instead\n",
      "  warnings.warn(\"Consider using IPython.display.IFrame instead\")\n"
     ]
    },
    {
     "data": {
      "text/html": [
       "<iframe src=\"data:text/html;base64,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\" width=\"100%\" height=\"480\"></iframe>"
      ],
      "text/plain": [
       "<IPython.core.display.HTML object>"
      ]
     },
     "execution_count": 12,
     "metadata": {},
     "output_type": "execute_result"
    }
   ],
   "source": [
    "fig = plt.figure(figsize=(14,8))\n",
    "ax = fig.add_subplot(111)\n",
    "\n",
    "## setting the color scale\n",
    "# color_scale = np.log(hot_spots[2])\n",
    "color_scale = hot_spots[2]\n",
    "rng = np.random.RandomState(0)\n",
    "\n",
    "colors = rng.rand(len(hot_spots[0]))\n",
    "\n",
    "## making a scatter plot\n",
    "plt.scatter(hot_spots[0], hot_spots[1],s=hot_spots[2],c=colors,cmap=cm.cool)\n",
    "\n",
    "## displaying the Leaflet\n",
    "# mpl.show()     # to open in a new tab\n",
    "mpl.display()    # inline map"
   ]
  },
  {
   "cell_type": "code",
   "execution_count": null,
   "metadata": {},
   "outputs": [],
   "source": []
  }
 ],
 "metadata": {
  "kernelspec": {
   "display_name": "Python 3",
   "language": "python",
   "name": "python3"
  },
  "language_info": {
   "codemirror_mode": {
    "name": "ipython",
    "version": 3
   },
   "file_extension": ".py",
   "mimetype": "text/x-python",
   "name": "python",
   "nbconvert_exporter": "python",
   "pygments_lexer": "ipython3",
   "version": "3.7.6"
  }
 },
 "nbformat": 4,
 "nbformat_minor": 4
}
