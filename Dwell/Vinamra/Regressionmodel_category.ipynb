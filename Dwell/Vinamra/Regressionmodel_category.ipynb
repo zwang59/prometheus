{
 "cells": [
  {
   "cell_type": "code",
   "execution_count": 1,
   "metadata": {},
   "outputs": [],
   "source": [
    "import matplotlib.pyplot as plt\n",
    "import numpy as np\n",
    "import pandas as pd\n",
    "from sklearn import datasets, linear_model\n",
    "from sklearn.linear_model import LogisticRegression\n",
    "from sklearn.metrics import mean_squared_error, r2_score, confusion_matrix\n",
    "import statsmodels.api as sm\n",
    "from sklearn.model_selection import train_test_split"
   ]
  },
  {
   "cell_type": "code",
   "execution_count": 2,
   "metadata": {},
   "outputs": [
    {
     "name": "stdout",
     "output_type": "stream",
     "text": [
      "      Device_ID   Latitude  Longitude Start_time End_time   Category  \\\n",
      "0             1  41.879604 -87.633664       8:00     8:10  Fast Food   \n",
      "1             1  41.877677 -87.634251       8:15     8:20    Parking   \n",
      "2             1  41.880653 -87.636480       8:30    12:00       Work   \n",
      "3             1  41.897865 -87.630874      17:30    23:59       Home   \n",
      "4             2  41.879604 -87.633664       7:30     8:30  Fast Food   \n",
      "...         ...        ...        ...        ...      ...        ...   \n",
      "1074          5  41.881997 -87.627485       9:00    13:00  Groceries   \n",
      "1075          6  41.881997 -87.627485      10:00    13:00  Groceries   \n",
      "1076          6  41.883138 -87.630693      14:00    16:00    Library   \n",
      "1077          6  41.897865 -87.630874      16:00    16:30       Home   \n",
      "1078          6  41.890136 -87.631689      22:00    23:59  Nightclub   \n",
      "\n",
      "      Category11  Gender  Gender01  Age  ... Days01  Days Days07  Week  \\\n",
      "0              0    Male         0   25  ...      1     M      1    41   \n",
      "1              8    Male         0   25  ...      1     M      1    41   \n",
      "2             10    Male         0   25  ...      1     M      1    41   \n",
      "3              2    Male         0   25  ...      1     M      1    41   \n",
      "4              0  Female         1   27  ...      1     M      1    41   \n",
      "...          ...     ...       ...  ...  ...    ...   ...    ...   ...   \n",
      "1074           1    Male         0   27  ...      0    Su      0    49   \n",
      "1075           1  Female         1   29  ...      0    Su      0    49   \n",
      "1076           3  Female         1   29  ...      0    Su      0    49   \n",
      "1077           2  Female         1   29  ...      0    Su      0    49   \n",
      "1078           6  Female         1   29  ...      0    Su      0    49   \n",
      "\n",
      "        Timeframe Timeframehh  Duration  Likelihood1  Probability1  \\\n",
      "0      8:00:00 AM           8        10        0.875      0.538462   \n",
      "1      8:00:00 AM           8         5        1.000      1.000000   \n",
      "2      8:00:00 AM           8       210        1.000      1.000000   \n",
      "3      6:00:00 PM          18       389        1.000      0.250000   \n",
      "4      8:00:00 AM           8        60        0.750      0.461538   \n",
      "...           ...         ...       ...          ...           ...   \n",
      "1074  10:00:00 AM          10       240        1.000      0.500000   \n",
      "1075  10:00:00 AM          10       180        1.000      0.500000   \n",
      "1076   2:00:00 PM          14       120        1.000      1.000000   \n",
      "1077   4:00:00 PM          16        30        1.000      0.500000   \n",
      "1078  10:00:00 PM          22       119        1.000      1.000000   \n",
      "\n",
      "      Likelihood2  \n",
      "0           0.875  \n",
      "1           1.000  \n",
      "2           1.000  \n",
      "3           1.000  \n",
      "4           0.750  \n",
      "...           ...  \n",
      "1074        1.000  \n",
      "1075        1.000  \n",
      "1076        1.000  \n",
      "1077        1.000  \n",
      "1078        1.000  \n",
      "\n",
      "[1079 rows x 21 columns]\n"
     ]
    }
   ],
   "source": [
    "df = pd.read_csv (r'D:\\digital factory\\Dwell1\\Dwell\\DwellML\\dataset\\Dwell_Dataset_likelihood.csv')\n",
    "print(df)\n"
   ]
  },
  {
   "cell_type": "code",
   "execution_count": 3,
   "metadata": {},
   "outputs": [
    {
     "data": {
      "text/html": [
       "<div>\n",
       "<style scoped>\n",
       "    .dataframe tbody tr th:only-of-type {\n",
       "        vertical-align: middle;\n",
       "    }\n",
       "\n",
       "    .dataframe tbody tr th {\n",
       "        vertical-align: top;\n",
       "    }\n",
       "\n",
       "    .dataframe thead th {\n",
       "        text-align: right;\n",
       "    }\n",
       "</style>\n",
       "<table border=\"1\" class=\"dataframe\">\n",
       "  <thead>\n",
       "    <tr style=\"text-align: right;\">\n",
       "      <th></th>\n",
       "      <th>Device_ID</th>\n",
       "      <th>Latitude</th>\n",
       "      <th>Longitude</th>\n",
       "      <th>Category11</th>\n",
       "      <th>Gender01</th>\n",
       "      <th>Age</th>\n",
       "      <th>Days01</th>\n",
       "      <th>Days07</th>\n",
       "      <th>Week</th>\n",
       "      <th>Timeframehh</th>\n",
       "      <th>Duration</th>\n",
       "      <th>Likelihood1</th>\n",
       "      <th>Probability1</th>\n",
       "      <th>Likelihood2</th>\n",
       "    </tr>\n",
       "  </thead>\n",
       "  <tbody>\n",
       "    <tr>\n",
       "      <th>count</th>\n",
       "      <td>1079.000000</td>\n",
       "      <td>1079.000000</td>\n",
       "      <td>1079.000000</td>\n",
       "      <td>1079.000000</td>\n",
       "      <td>1079.000000</td>\n",
       "      <td>1079.000000</td>\n",
       "      <td>1079.000000</td>\n",
       "      <td>1079.000000</td>\n",
       "      <td>1079.000000</td>\n",
       "      <td>1079.000000</td>\n",
       "      <td>1079.000000</td>\n",
       "      <td>1079.000000</td>\n",
       "      <td>1079.000000</td>\n",
       "      <td>1079.000000</td>\n",
       "    </tr>\n",
       "    <tr>\n",
       "      <th>mean</th>\n",
       "      <td>3.469880</td>\n",
       "      <td>41.885617</td>\n",
       "      <td>-87.632174</td>\n",
       "      <td>4.358665</td>\n",
       "      <td>0.485635</td>\n",
       "      <td>27.101019</td>\n",
       "      <td>0.732159</td>\n",
       "      <td>3.029657</td>\n",
       "      <td>44.613531</td>\n",
       "      <td>13.388323</td>\n",
       "      <td>215.355885</td>\n",
       "      <td>0.989458</td>\n",
       "      <td>0.528669</td>\n",
       "      <td>0.986214</td>\n",
       "    </tr>\n",
       "    <tr>\n",
       "      <th>std</th>\n",
       "      <td>1.789676</td>\n",
       "      <td>0.008321</td>\n",
       "      <td>0.003255</td>\n",
       "      <td>3.722543</td>\n",
       "      <td>0.500025</td>\n",
       "      <td>1.493334</td>\n",
       "      <td>0.443039</td>\n",
       "      <td>1.968455</td>\n",
       "      <td>2.315921</td>\n",
       "      <td>4.849143</td>\n",
       "      <td>229.714672</td>\n",
       "      <td>0.062480</td>\n",
       "      <td>0.317468</td>\n",
       "      <td>0.073220</td>\n",
       "    </tr>\n",
       "    <tr>\n",
       "      <th>min</th>\n",
       "      <td>1.000000</td>\n",
       "      <td>41.874849</td>\n",
       "      <td>-87.636480</td>\n",
       "      <td>0.000000</td>\n",
       "      <td>0.000000</td>\n",
       "      <td>25.000000</td>\n",
       "      <td>0.000000</td>\n",
       "      <td>0.000000</td>\n",
       "      <td>41.000000</td>\n",
       "      <td>6.000000</td>\n",
       "      <td>-1170.000000</td>\n",
       "      <td>0.125000</td>\n",
       "      <td>0.058824</td>\n",
       "      <td>0.125000</td>\n",
       "    </tr>\n",
       "    <tr>\n",
       "      <th>25%</th>\n",
       "      <td>2.000000</td>\n",
       "      <td>41.880653</td>\n",
       "      <td>-87.634506</td>\n",
       "      <td>1.000000</td>\n",
       "      <td>0.000000</td>\n",
       "      <td>26.000000</td>\n",
       "      <td>0.000000</td>\n",
       "      <td>1.000000</td>\n",
       "      <td>43.000000</td>\n",
       "      <td>10.000000</td>\n",
       "      <td>55.000000</td>\n",
       "      <td>1.000000</td>\n",
       "      <td>0.250000</td>\n",
       "      <td>1.000000</td>\n",
       "    </tr>\n",
       "    <tr>\n",
       "      <th>50%</th>\n",
       "      <td>3.000000</td>\n",
       "      <td>41.881997</td>\n",
       "      <td>-87.630874</td>\n",
       "      <td>2.000000</td>\n",
       "      <td>0.000000</td>\n",
       "      <td>27.000000</td>\n",
       "      <td>1.000000</td>\n",
       "      <td>3.000000</td>\n",
       "      <td>45.000000</td>\n",
       "      <td>12.000000</td>\n",
       "      <td>210.000000</td>\n",
       "      <td>1.000000</td>\n",
       "      <td>0.500000</td>\n",
       "      <td>1.000000</td>\n",
       "    </tr>\n",
       "    <tr>\n",
       "      <th>75%</th>\n",
       "      <td>5.000000</td>\n",
       "      <td>41.897865</td>\n",
       "      <td>-87.630874</td>\n",
       "      <td>8.000000</td>\n",
       "      <td>1.000000</td>\n",
       "      <td>29.000000</td>\n",
       "      <td>1.000000</td>\n",
       "      <td>5.000000</td>\n",
       "      <td>47.000000</td>\n",
       "      <td>18.000000</td>\n",
       "      <td>374.000000</td>\n",
       "      <td>1.000000</td>\n",
       "      <td>1.000000</td>\n",
       "      <td>1.000000</td>\n",
       "    </tr>\n",
       "    <tr>\n",
       "      <th>max</th>\n",
       "      <td>6.000000</td>\n",
       "      <td>41.897865</td>\n",
       "      <td>-87.623633</td>\n",
       "      <td>10.000000</td>\n",
       "      <td>1.000000</td>\n",
       "      <td>29.000000</td>\n",
       "      <td>1.000000</td>\n",
       "      <td>6.000000</td>\n",
       "      <td>49.000000</td>\n",
       "      <td>22.000000</td>\n",
       "      <td>509.000000</td>\n",
       "      <td>1.125000</td>\n",
       "      <td>1.000000</td>\n",
       "      <td>1.125000</td>\n",
       "    </tr>\n",
       "  </tbody>\n",
       "</table>\n",
       "</div>"
      ],
      "text/plain": [
       "         Device_ID     Latitude    Longitude   Category11     Gender01  \\\n",
       "count  1079.000000  1079.000000  1079.000000  1079.000000  1079.000000   \n",
       "mean      3.469880    41.885617   -87.632174     4.358665     0.485635   \n",
       "std       1.789676     0.008321     0.003255     3.722543     0.500025   \n",
       "min       1.000000    41.874849   -87.636480     0.000000     0.000000   \n",
       "25%       2.000000    41.880653   -87.634506     1.000000     0.000000   \n",
       "50%       3.000000    41.881997   -87.630874     2.000000     0.000000   \n",
       "75%       5.000000    41.897865   -87.630874     8.000000     1.000000   \n",
       "max       6.000000    41.897865   -87.623633    10.000000     1.000000   \n",
       "\n",
       "               Age       Days01       Days07         Week  Timeframehh  \\\n",
       "count  1079.000000  1079.000000  1079.000000  1079.000000  1079.000000   \n",
       "mean     27.101019     0.732159     3.029657    44.613531    13.388323   \n",
       "std       1.493334     0.443039     1.968455     2.315921     4.849143   \n",
       "min      25.000000     0.000000     0.000000    41.000000     6.000000   \n",
       "25%      26.000000     0.000000     1.000000    43.000000    10.000000   \n",
       "50%      27.000000     1.000000     3.000000    45.000000    12.000000   \n",
       "75%      29.000000     1.000000     5.000000    47.000000    18.000000   \n",
       "max      29.000000     1.000000     6.000000    49.000000    22.000000   \n",
       "\n",
       "          Duration  Likelihood1  Probability1  Likelihood2  \n",
       "count  1079.000000  1079.000000   1079.000000  1079.000000  \n",
       "mean    215.355885     0.989458      0.528669     0.986214  \n",
       "std     229.714672     0.062480      0.317468     0.073220  \n",
       "min   -1170.000000     0.125000      0.058824     0.125000  \n",
       "25%      55.000000     1.000000      0.250000     1.000000  \n",
       "50%     210.000000     1.000000      0.500000     1.000000  \n",
       "75%     374.000000     1.000000      1.000000     1.000000  \n",
       "max     509.000000     1.125000      1.000000     1.125000  "
      ]
     },
     "execution_count": 3,
     "metadata": {},
     "output_type": "execute_result"
    }
   ],
   "source": [
    "#df = pd.DataFrame({'Gender': ['Male', 'Female']})\n",
    "#df = pd.DataFrame({'Days':['M','Tu','W','Th','F','Sa','Su']})\n",
    "#print(pd.get_dummies(df))\n",
    "#print(df)\n",
    "df.describe()"
   ]
  },
  {
   "cell_type": "code",
   "execution_count": 4,
   "metadata": {},
   "outputs": [
    {
     "name": "stdout",
     "output_type": "stream",
     "text": [
      "      Device_ID   Latitude  Longitude  Gender01  Age  Days07  Timeframehh  \\\n",
      "0             1  41.879604 -87.633664         0   25       1            8   \n",
      "1             1  41.877677 -87.634251         0   25       1            8   \n",
      "2             1  41.880653 -87.636480         0   25       1            8   \n",
      "3             1  41.897865 -87.630874         0   25       1           18   \n",
      "4             2  41.879604 -87.633664         1   27       1            8   \n",
      "...         ...        ...        ...       ...  ...     ...          ...   \n",
      "1074          5  41.881997 -87.627485         0   27       0           10   \n",
      "1075          6  41.881997 -87.627485         1   29       0           10   \n",
      "1076          6  41.883138 -87.630693         1   29       0           14   \n",
      "1077          6  41.897865 -87.630874         1   29       0           16   \n",
      "1078          6  41.890136 -87.631689         1   29       0           22   \n",
      "\n",
      "      Duration  \n",
      "0           10  \n",
      "1            5  \n",
      "2          210  \n",
      "3          389  \n",
      "4           60  \n",
      "...        ...  \n",
      "1074       240  \n",
      "1075       180  \n",
      "1076       120  \n",
      "1077        30  \n",
      "1078       119  \n",
      "\n",
      "[1079 rows x 8 columns]\n"
     ]
    }
   ],
   "source": [
    "#df_x = df['Device_ID','Latitude','Longitude','Gender','Age','Days01','Days','Week','Timeframe','Likelihood2']\n",
    "#df_x = df\n",
    "df_x = df.drop(columns = ['Category','Category11','Days','Gender','Likelihood1','Likelihood2','Probability1','Start_time','Date','End_time','Timeframe','Days01','Week'])\n",
    "df_y = df['Category11']\n",
    "print(df_x)"
   ]
  },
  {
   "cell_type": "code",
   "execution_count": 5,
   "metadata": {},
   "outputs": [],
   "source": [
    "#Train_x = df_x[:-20]\n",
    "#Train_y = df_y[:-20]\n",
    "#Test_x = df_x[-20:]\n",
    "#Test_y= df_y[-20:]"
   ]
  },
  {
   "cell_type": "code",
   "execution_count": 6,
   "metadata": {},
   "outputs": [],
   "source": [
    "Train_x, Test_x, Train_y, Test_y = train_test_split(df_x, df_y, test_size=0.30, random_state=42)"
   ]
  },
  {
   "cell_type": "code",
   "execution_count": 7,
   "metadata": {},
   "outputs": [],
   "source": [
    "Model = LogisticRegression(solver='liblinear', random_state=0)"
   ]
  },
  {
   "cell_type": "code",
   "execution_count": 8,
   "metadata": {},
   "outputs": [],
   "source": [
    "fit=Model.fit(Train_x, Train_y)"
   ]
  },
  {
   "cell_type": "code",
   "execution_count": 9,
   "metadata": {},
   "outputs": [
    {
     "data": {
      "text/plain": [
       "array([ 0,  1,  2,  3,  4,  5,  6,  7,  8,  9, 10], dtype=int64)"
      ]
     },
     "execution_count": 9,
     "metadata": {},
     "output_type": "execute_result"
    }
   ],
   "source": [
    "Model.classes_"
   ]
  },
  {
   "cell_type": "code",
   "execution_count": 10,
   "metadata": {},
   "outputs": [],
   "source": [
    "#Model.fit(Test_x,Test_y)"
   ]
  },
  {
   "cell_type": "code",
   "execution_count": 11,
   "metadata": {},
   "outputs": [
    {
     "data": {
      "text/plain": [
       "0.7808641975308642"
      ]
     },
     "execution_count": 11,
     "metadata": {},
     "output_type": "execute_result"
    }
   ],
   "source": [
    "Model.score(Test_x,Test_y)"
   ]
  },
  {
   "cell_type": "code",
   "execution_count": 12,
   "metadata": {},
   "outputs": [
    {
     "data": {
      "text/plain": [
       "array([[13,  0,  2,  0,  0,  0,  0,  0, 14,  0,  0],\n",
       "       [ 2, 35, 10,  0,  0,  0,  0,  0,  0,  0,  0],\n",
       "       [ 0, 10, 93,  0,  0,  0,  0,  0,  0,  0,  0],\n",
       "       [ 1,  8,  1,  0,  0,  0,  0,  0,  0,  0,  0],\n",
       "       [ 4,  0,  6,  0,  0,  0,  0,  0,  0,  0,  0],\n",
       "       [ 4,  0,  0,  0,  0,  0,  0,  0,  0,  0,  0],\n",
       "       [ 0,  0,  1,  0,  0,  0,  5,  0,  0,  0,  0],\n",
       "       [ 0,  0,  0,  0,  0,  0,  0, 22,  0,  0,  0],\n",
       "       [ 0,  0,  0,  0,  0,  0,  0,  0, 14,  0,  0],\n",
       "       [ 7,  0,  1,  0,  0,  0,  0,  0,  0,  0,  0],\n",
       "       [ 0,  0,  0,  0,  0,  0,  0,  0,  0,  0, 71]], dtype=int64)"
      ]
     },
     "execution_count": 12,
     "metadata": {},
     "output_type": "execute_result"
    }
   ],
   "source": [
    "confusion_matrix(Test_y, Model.predict(Test_x))"
   ]
  },
  {
   "cell_type": "code",
   "execution_count": 13,
   "metadata": {},
   "outputs": [
    {
     "data": {
      "text/plain": [
       "[<matplotlib.lines.Line2D at 0x2e9915a6100>,\n",
       " <matplotlib.lines.Line2D at 0x2e9915a61f0>,\n",
       " <matplotlib.lines.Line2D at 0x2e9915a6130>,\n",
       " <matplotlib.lines.Line2D at 0x2e9915a62b0>,\n",
       " <matplotlib.lines.Line2D at 0x2e9915a6370>,\n",
       " <matplotlib.lines.Line2D at 0x2e9915a6430>,\n",
       " <matplotlib.lines.Line2D at 0x2e9915a64f0>,\n",
       " <matplotlib.lines.Line2D at 0x2e9915a65b0>]"
      ]
     },
     "execution_count": 13,
     "metadata": {},
     "output_type": "execute_result"
    },
    {
     "data": {
      "image/png": "[encoded data removed]",
      "text/plain": [
       "<Figure size 432x288 with 1 Axes>"
      ]
     },
     "metadata": {
      "needs_background": "light"
     },
     "output_type": "display_data"
    }
   ],
   "source": [
    "plt.plot(Test_x, Model.predict(Test_x), color='red',linewidth=3)\n"
   ]
  },
  {
   "cell_type": "code",
   "execution_count": null,
   "metadata": {},
   "outputs": [],
   "source": []
  },
  {
   "cell_type": "code",
   "execution_count": 14,
   "metadata": {},
   "outputs": [
    {
     "data": {
      "text/plain": [
       "0.5992858817776038"
      ]
     },
     "execution_count": 14,
     "metadata": {},
     "output_type": "execute_result"
    }
   ],
   "source": [
    "Pred_y= Model.predict(Test_x)\n",
    "r2_score(Test_y, Pred_y)"
   ]
  },
  {
   "cell_type": "code",
   "execution_count": 15,
   "metadata": {},
   "outputs": [
    {
     "name": "stdout",
     "output_type": "stream",
     "text": [
      "     Device_ID   Latitude  Longitude  Gender01  Age  Days07  Timeframehh  \\\n",
      "423          5  41.897865 -87.630874         0   27       1           18   \n",
      "548          2  41.880653 -87.636480         1   27       1           10   \n",
      "730          5  41.881997 -87.627485         0   27       3           18   \n",
      "588          2  41.897865 -87.630874         1   27       3           18   \n",
      "830          6  41.880653 -87.636480         1   29       1           10   \n",
      "..         ...        ...        ...       ...  ...     ...          ...   \n",
      "457          4  41.880653 -87.636480         0   26       3           10   \n",
      "71           4  41.881997 -87.627485         0   26       4           18   \n",
      "94           5  41.880653 -87.636480         0   27       5           10   \n",
      "33           5  41.880653 -87.636480         0   27       2           10   \n",
      "740          2  41.879604 -87.633664         1   27       4            8   \n",
      "\n",
      "     Duration  \n",
      "423       374  \n",
      "548       480  \n",
      "730        45  \n",
      "588       374  \n",
      "830       490  \n",
      "..        ...  \n",
      "457       490  \n",
      "71         55  \n",
      "94        480  \n",
      "33        480  \n",
      "740        60  \n",
      "\n",
      "[324 rows x 8 columns]\n"
     ]
    }
   ],
   "source": [
    "print(Test_x)\n"
   ]
  },
  {
   "cell_type": "code",
   "execution_count": null,
   "metadata": {},
   "outputs": [],
   "source": []
  }
 ],
 "metadata": {
  "kernelspec": {
   "display_name": "Python 3",
   "language": "python",
   "name": "python3"
  },
  "language_info": {
   "codemirror_mode": {
    "name": "ipython",
    "version": 3
   },
   "file_extension": ".py",
   "mimetype": "text/x-python",
   "name": "python",
   "nbconvert_exporter": "python",
   "pygments_lexer": "ipython3",
   "version": "3.8.5"
  }
 },
 "nbformat": 4,
 "nbformat_minor": 4
}
