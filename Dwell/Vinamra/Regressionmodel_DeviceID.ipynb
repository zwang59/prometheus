{
 "cells": [
  {
   "cell_type": "code",
   "execution_count": 1,
   "metadata": {},
   "outputs": [],
   "source": [
    "import matplotlib.pyplot as plt\n",
    "import numpy as np\n",
    "import pandas as pd\n",
    "from sklearn import datasets, linear_model\n",
    "from sklearn.linear_model import LogisticRegression\n",
    "from sklearn.metrics import mean_squared_error, r2_score, confusion_matrix\n",
    "import statsmodels.api as sm\n",
    "from sklearn.model_selection import train_test_split"
   ]
  },
  {
   "cell_type": "code",
   "execution_count": 2,
   "metadata": {},
   "outputs": [
    {
     "name": "stdout",
     "output_type": "stream",
     "text": [
      "      Device_ID   Latitude  Longitude Start_time End_time   Category  \\\n",
      "0             1  41.879604 -87.633664       8:00     8:10  Fast Food   \n",
      "1             1  41.877677 -87.634251       8:15     8:20    Parking   \n",
      "2             1  41.880653 -87.636480       8:30    12:00       Work   \n",
      "3             1  41.897865 -87.630874      17:30    23:59       Home   \n",
      "4             2  41.879604 -87.633664       7:30     8:30  Fast Food   \n",
      "...         ...        ...        ...        ...      ...        ...   \n",
      "1074          5  41.881997 -87.627485       9:00    13:00  Groceries   \n",
      "1075          6  41.881997 -87.627485      10:00    13:00  Groceries   \n",
      "1076          6  41.883138 -87.630693      14:00    16:00    Library   \n",
      "1077          6  41.897865 -87.630874      16:00    16:30       Home   \n",
      "1078          6  41.890136 -87.631689      22:00    23:59  Nightclub   \n",
      "\n",
      "      Category11  Gender  Gender01  Age  ... Days01  Days Days07  Week  \\\n",
      "0              0    Male         0   25  ...      1     M      1    41   \n",
      "1              8    Male         0   25  ...      1     M      1    41   \n",
      "2             10    Male         0   25  ...      1     M      1    41   \n",
      "3              2    Male         0   25  ...      1     M      1    41   \n",
      "4              0  Female         1   27  ...      1     M      1    41   \n",
      "...          ...     ...       ...  ...  ...    ...   ...    ...   ...   \n",
      "1074           1    Male         0   27  ...      0    Su      0    49   \n",
      "1075           1  Female         1   29  ...      0    Su      0    49   \n",
      "1076           3  Female         1   29  ...      0    Su      0    49   \n",
      "1077           2  Female         1   29  ...      0    Su      0    49   \n",
      "1078           6  Female         1   29  ...      0    Su      0    49   \n",
      "\n",
      "        Timeframe Timeframehh  Duration  Likelihood1  Probability1  \\\n",
      "0      8:00:00 AM           8        10        0.875      0.538462   \n",
      "1      8:00:00 AM           8         5        1.000      1.000000   \n",
      "2      8:00:00 AM           8       210        1.000      1.000000   \n",
      "3      6:00:00 PM          18       389        1.000      0.250000   \n",
      "4      8:00:00 AM           8        60        0.750      0.461538   \n",
      "...           ...         ...       ...          ...           ...   \n",
      "1074  10:00:00 AM          10       240        1.000      0.500000   \n",
      "1075  10:00:00 AM          10       180        1.000      0.500000   \n",
      "1076   2:00:00 PM          14       120        1.000      1.000000   \n",
      "1077   4:00:00 PM          16        30        1.000      0.500000   \n",
      "1078  10:00:00 PM          22       119        1.000      1.000000   \n",
      "\n",
      "      Likelihood2  \n",
      "0           0.875  \n",
      "1           1.000  \n",
      "2           1.000  \n",
      "3           1.000  \n",
      "4           0.750  \n",
      "...           ...  \n",
      "1074        1.000  \n",
      "1075        1.000  \n",
      "1076        1.000  \n",
      "1077        1.000  \n",
      "1078        1.000  \n",
      "\n",
      "[1079 rows x 21 columns]\n"
     ]
    }
   ],
   "source": [
    "df = pd.read_csv (r'D:\\digital factory\\Dwell1\\Dwell\\DwellML\\dataset\\Dwell_Dataset_likelihood.csv')\n",
    "print(df)\n"
   ]
  },
  {
   "cell_type": "code",
   "execution_count": 3,
   "metadata": {},
   "outputs": [],
   "source": [
    "#df = pd.DataFrame({'Gender': ['Male', 'Female']})\n",
    "#df = pd.DataFrame({'Days':['M','Tu','W','Th','F','Sa','Su']})\n",
    "#print(pd.get_dummies(df))\n",
    "#print(df)"
   ]
  },
  {
   "cell_type": "code",
   "execution_count": 4,
   "metadata": {},
   "outputs": [
    {
     "name": "stdout",
     "output_type": "stream",
     "text": [
      "       Latitude  Longitude  Category11  Gender01  Age  Days07  Timeframehh  \\\n",
      "0     41.879604 -87.633664           0         0   25       1            8   \n",
      "1     41.877677 -87.634251           8         0   25       1            8   \n",
      "2     41.880653 -87.636480          10         0   25       1            8   \n",
      "3     41.897865 -87.630874           2         0   25       1           18   \n",
      "4     41.879604 -87.633664           0         1   27       1            8   \n",
      "...         ...        ...         ...       ...  ...     ...          ...   \n",
      "1074  41.881997 -87.627485           1         0   27       0           10   \n",
      "1075  41.881997 -87.627485           1         1   29       0           10   \n",
      "1076  41.883138 -87.630693           3         1   29       0           14   \n",
      "1077  41.897865 -87.630874           2         1   29       0           16   \n",
      "1078  41.890136 -87.631689           6         1   29       0           22   \n",
      "\n",
      "      Duration  \n",
      "0           10  \n",
      "1            5  \n",
      "2          210  \n",
      "3          389  \n",
      "4           60  \n",
      "...        ...  \n",
      "1074       240  \n",
      "1075       180  \n",
      "1076       120  \n",
      "1077        30  \n",
      "1078       119  \n",
      "\n",
      "[1079 rows x 8 columns]\n"
     ]
    }
   ],
   "source": [
    "#df_x = df['Device_ID','Latitude','Longitude','Gender','Age','Days01','Days','Week','Timeframe','Likelihood2']\n",
    "#df_x = df\n",
    "df_x = df.drop(columns = ['Category','Device_ID','Days','Gender','Likelihood1','Likelihood2','Probability1','Start_time','Date','End_time','Timeframe','Days01','Week'])\n",
    "df_y = df['Device_ID']\n",
    "print(df_x)"
   ]
  },
  {
   "cell_type": "code",
   "execution_count": 5,
   "metadata": {},
   "outputs": [],
   "source": [
    "#Train_x = df_x[:-20]\n",
    "#Train_y = df_y[:-20]\n",
    "#Test_x = df_x[-20:]\n",
    "#Test_y= df_y[-20:]"
   ]
  },
  {
   "cell_type": "code",
   "execution_count": 6,
   "metadata": {},
   "outputs": [],
   "source": [
    "Train_x, Test_x, Train_y, Test_y = train_test_split(df_x, df_y, test_size=0.30, random_state=42)"
   ]
  },
  {
   "cell_type": "code",
   "execution_count": 7,
   "metadata": {},
   "outputs": [],
   "source": [
    "Model = LogisticRegression(solver='liblinear', random_state=0)"
   ]
  },
  {
   "cell_type": "code",
   "execution_count": 8,
   "metadata": {},
   "outputs": [],
   "source": [
    "fit=Model.fit(Train_x, Train_y)"
   ]
  },
  {
   "cell_type": "code",
   "execution_count": 9,
   "metadata": {},
   "outputs": [
    {
     "data": {
      "text/plain": [
       "array([1, 2, 3, 4, 5, 6], dtype=int64)"
      ]
     },
     "execution_count": 9,
     "metadata": {},
     "output_type": "execute_result"
    }
   ],
   "source": [
    "Model.classes_"
   ]
  },
  {
   "cell_type": "code",
   "execution_count": 10,
   "metadata": {},
   "outputs": [],
   "source": [
    "#Model.fit(Test_x,Test_y)"
   ]
  },
  {
   "cell_type": "code",
   "execution_count": 11,
   "metadata": {},
   "outputs": [
    {
     "data": {
      "text/plain": [
       "0.9166666666666666"
      ]
     },
     "execution_count": 11,
     "metadata": {},
     "output_type": "execute_result"
    }
   ],
   "source": [
    "Model.score(Test_x,Test_y)"
   ]
  },
  {
   "cell_type": "code",
   "execution_count": 12,
   "metadata": {},
   "outputs": [
    {
     "data": {
      "text/plain": [
       "array([[70,  0,  0,  0,  0,  0],\n",
       "       [ 0, 53,  0,  0,  0,  0],\n",
       "       [ 0,  0, 32,  0,  0,  6],\n",
       "       [ 0,  0,  0, 36, 11,  0],\n",
       "       [ 0,  0,  0,  0, 57,  0],\n",
       "       [ 0,  0, 10,  0,  0, 49]], dtype=int64)"
      ]
     },
     "execution_count": 12,
     "metadata": {},
     "output_type": "execute_result"
    }
   ],
   "source": [
    "confusion_matrix(Test_y, Model.predict(Test_x))"
   ]
  },
  {
   "cell_type": "code",
   "execution_count": 13,
   "metadata": {},
   "outputs": [
    {
     "data": {
      "text/plain": [
       "[<matplotlib.lines.Line2D at 0x1b36d939190>,\n",
       " <matplotlib.lines.Line2D at 0x1b36d939280>,\n",
       " <matplotlib.lines.Line2D at 0x1b36d9391c0>,\n",
       " <matplotlib.lines.Line2D at 0x1b36d939340>,\n",
       " <matplotlib.lines.Line2D at 0x1b36d939400>,\n",
       " <matplotlib.lines.Line2D at 0x1b36d9394c0>,\n",
       " <matplotlib.lines.Line2D at 0x1b36d939580>,\n",
       " <matplotlib.lines.Line2D at 0x1b36d939640>]"
      ]
     },
     "execution_count": 13,
     "metadata": {},
     "output_type": "execute_result"
    },
    {
     "data": {
      "image/png": "[encoded data removed]",
      "text/plain": [
       "<Figure size 432x288 with 1 Axes>"
      ]
     },
     "metadata": {
      "needs_background": "light"
     },
     "output_type": "display_data"
    }
   ],
   "source": [
    "plt.plot(Test_x, Model.predict(Test_x), color='red',linewidth=3)\n"
   ]
  },
  {
   "cell_type": "code",
   "execution_count": null,
   "metadata": {},
   "outputs": [],
   "source": []
  },
  {
   "cell_type": "code",
   "execution_count": 14,
   "metadata": {},
   "outputs": [
    {
     "data": {
      "text/plain": [
       "0.8556942165621202"
      ]
     },
     "execution_count": 14,
     "metadata": {},
     "output_type": "execute_result"
    }
   ],
   "source": [
    "Pred_y= Model.predict(Test_x)\n",
    "r2_score(Test_y, Pred_y)"
   ]
  },
  {
   "cell_type": "code",
   "execution_count": 15,
   "metadata": {},
   "outputs": [
    {
     "name": "stdout",
     "output_type": "stream",
     "text": [
      "[5 2 5 2 6 5 2 2 2 1 5 6 4 1 5 1 1 3 1 5 6 5 6 6 2 1 1 6 3 1 5 1 4 2 6 5 2\n",
      " 2 6 6 6 6 3 6 2 3 3 4 3 1 3 2 3 2 6 4 2 1 2 5 5 5 5 6 1 3 2 5 2 4 6 3 5 2\n",
      " 5 6 5 1 3 6 1 3 6 6 3 1 1 6 5 1 4 2 5 5 2 2 5 3 1 1 6 5 6 5 2 1 1 3 6 6 4\n",
      " 5 5 6 4 3 1 1 5 6 5 1 4 6 1 6 1 4 2 5 5 3 1 1 1 6 6 1 2 6 5 5 4 5 6 6 4 5\n",
      " 1 5 2 1 5 2 3 1 5 2 2 5 2 3 1 6 1 3 1 1 5 2 1 3 2 2 6 3 5 5 2 5 2 1 3 6 4\n",
      " 1 6 1 4 6 6 3 6 1 6 3 5 3 6 3 5 5 5 1 3 5 2 2 4 3 3 4 2 5 1 1 2 2 1 4 3 4\n",
      " 1 1 6 5 1 5 5 1 6 2 1 5 6 1 5 2 4 1 2 1 5 1 6 1 1 2 1 5 3 4 6 1 2 1 1 3 3\n",
      " 4 1 1 4 2 4 3 3 2 4 3 4 2 5 6 3 6 5 2 1 6 4 1 6 2 1 3 3 1 6 5 4 4 4 4 4 5\n",
      " 5 6 4 3 2 5 2 5 5 5 1 2 5 2 6 6 1 5 1 4 3 5 4 4 4 5 5 2]\n"
     ]
    }
   ],
   "source": [
    "print(Pred_y)\n"
   ]
  },
  {
   "cell_type": "code",
   "execution_count": null,
   "metadata": {},
   "outputs": [],
   "source": []
  }
 ],
 "metadata": {
  "kernelspec": {
   "display_name": "Python 3",
   "language": "python",
   "name": "python3"
  },
  "language_info": {
   "codemirror_mode": {
    "name": "ipython",
    "version": 3
   },
   "file_extension": ".py",
   "mimetype": "text/x-python",
   "name": "python",
   "nbconvert_exporter": "python",
   "pygments_lexer": "ipython3",
   "version": "3.8.5"
  }
 },
 "nbformat": 4,
 "nbformat_minor": 4
}
